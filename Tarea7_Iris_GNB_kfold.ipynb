{
  "nbformat": 4,
  "nbformat_minor": 0,
  "metadata": {
    "colab": {
      "provenance": [],
      "authorship_tag": "ABX9TyNOgbeR8kYVQ9kwQmauDlWx",
      "include_colab_link": true
    },
    "kernelspec": {
      "name": "python3",
      "display_name": "Python 3"
    },
    "language_info": {
      "name": "python"
    }
  },
  "cells": [
    {
      "cell_type": "markdown",
      "metadata": {
        "id": "view-in-github",
        "colab_type": "text"
      },
      "source": [
        "<a href=\"https://colab.research.google.com/github/Mariyselita/CIP/blob/main/Tarea7_Iris_GNB_kfold.ipynb\" target=\"_parent\"><img src=\"https://colab.research.google.com/assets/colab-badge.svg\" alt=\"Open In Colab\"/></a>"
      ]
    },
    {
      "cell_type": "code",
      "execution_count": null,
      "metadata": {
        "colab": {
          "base_uri": "https://localhost:8080/"
        },
        "id": "mfQ7Q-93Aywn",
        "outputId": "7d4a99ef-bed0-4910-fb70-8764488bdf74"
      },
      "outputs": [
        {
          "output_type": "stream",
          "name": "stdout",
          "text": [
            "Requirement already satisfied: ucimlrepo in /usr/local/lib/python3.10/dist-packages (0.0.6)\n"
          ]
        }
      ],
      "source": [
        "pip install ucimlrepo"
      ]
    },
    {
      "cell_type": "code",
      "source": [
        "import pandas as pd\n",
        "from ucimlrepo import fetch_ucirepo\n",
        "import seaborn as sns\n",
        "import matplotlib.pyplot as plt\n",
        "import numpy as np\n",
        "from sklearn.model_selection import KFold\n",
        "from scipy.stats import norm\n",
        "\n",
        "iris = fetch_ucirepo(id=53)\n",
        "\n",
        "X = iris.data.features\n",
        "y = iris.data.targets"
      ],
      "metadata": {
        "id": "Au8Lm3cCWdVb"
      },
      "execution_count": null,
      "outputs": []
    },
    {
      "cell_type": "code",
      "source": [
        "iris"
      ],
      "metadata": {
        "colab": {
          "base_uri": "https://localhost:8080/"
        },
        "id": "UjUT3fnIYLSy",
        "outputId": "8d10640a-4cdb-4e35-8eba-7a9538422719"
      },
      "execution_count": null,
      "outputs": [
        {
          "output_type": "execute_result",
          "data": {
            "text/plain": [
              "{'data': {'ids': None,\n",
              "  'features':      sepal length  sepal width  petal length  petal width\n",
              "  0             5.1          3.5           1.4          0.2\n",
              "  1             4.9          3.0           1.4          0.2\n",
              "  2             4.7          3.2           1.3          0.2\n",
              "  3             4.6          3.1           1.5          0.2\n",
              "  4             5.0          3.6           1.4          0.2\n",
              "  ..            ...          ...           ...          ...\n",
              "  145           6.7          3.0           5.2          2.3\n",
              "  146           6.3          2.5           5.0          1.9\n",
              "  147           6.5          3.0           5.2          2.0\n",
              "  148           6.2          3.4           5.4          2.3\n",
              "  149           5.9          3.0           5.1          1.8\n",
              "  \n",
              "  [150 rows x 4 columns],\n",
              "  'targets':               class\n",
              "  0       Iris-setosa\n",
              "  1       Iris-setosa\n",
              "  2       Iris-setosa\n",
              "  3       Iris-setosa\n",
              "  4       Iris-setosa\n",
              "  ..              ...\n",
              "  145  Iris-virginica\n",
              "  146  Iris-virginica\n",
              "  147  Iris-virginica\n",
              "  148  Iris-virginica\n",
              "  149  Iris-virginica\n",
              "  \n",
              "  [150 rows x 1 columns],\n",
              "  'original':      sepal length  sepal width  petal length  petal width           class\n",
              "  0             5.1          3.5           1.4          0.2     Iris-setosa\n",
              "  1             4.9          3.0           1.4          0.2     Iris-setosa\n",
              "  2             4.7          3.2           1.3          0.2     Iris-setosa\n",
              "  3             4.6          3.1           1.5          0.2     Iris-setosa\n",
              "  4             5.0          3.6           1.4          0.2     Iris-setosa\n",
              "  ..            ...          ...           ...          ...             ...\n",
              "  145           6.7          3.0           5.2          2.3  Iris-virginica\n",
              "  146           6.3          2.5           5.0          1.9  Iris-virginica\n",
              "  147           6.5          3.0           5.2          2.0  Iris-virginica\n",
              "  148           6.2          3.4           5.4          2.3  Iris-virginica\n",
              "  149           5.9          3.0           5.1          1.8  Iris-virginica\n",
              "  \n",
              "  [150 rows x 5 columns],\n",
              "  'headers': Index(['sepal length', 'sepal width', 'petal length', 'petal width', 'class'], dtype='object')},\n",
              " 'metadata': {'uci_id': 53,\n",
              "  'name': 'Iris',\n",
              "  'repository_url': 'https://archive.ics.uci.edu/dataset/53/iris',\n",
              "  'data_url': 'https://archive.ics.uci.edu/static/public/53/data.csv',\n",
              "  'abstract': 'A small classic dataset from Fisher, 1936. One of the earliest known datasets used for evaluating classification methods.\\n',\n",
              "  'area': 'Biology',\n",
              "  'tasks': ['Classification'],\n",
              "  'characteristics': ['Tabular'],\n",
              "  'num_instances': 150,\n",
              "  'num_features': 4,\n",
              "  'feature_types': ['Real'],\n",
              "  'demographics': [],\n",
              "  'target_col': ['class'],\n",
              "  'index_col': None,\n",
              "  'has_missing_values': 'no',\n",
              "  'missing_values_symbol': None,\n",
              "  'year_of_dataset_creation': 1936,\n",
              "  'last_updated': 'Tue Sep 12 2023',\n",
              "  'dataset_doi': '10.24432/C56C76',\n",
              "  'creators': ['R. A. Fisher'],\n",
              "  'intro_paper': {'title': 'The Iris data set: In search of the source of virginica',\n",
              "   'authors': 'A. Unwin, K. Kleinman',\n",
              "   'published_in': 'Significance, 2021',\n",
              "   'year': 2021,\n",
              "   'url': 'https://www.semanticscholar.org/paper/4599862ea877863669a6a8e63a3c707a787d5d7e',\n",
              "   'doi': '1740-9713.01589'},\n",
              "  'additional_info': {'summary': 'This is one of the earliest datasets used in the literature on classification methods and widely used in statistics and machine learning.  The data set contains 3 classes of 50 instances each, where each class refers to a type of iris plant.  One class is linearly separable from the other 2; the latter are not linearly separable from each other.\\n\\nPredicted attribute: class of iris plant.\\n\\nThis is an exceedingly simple domain.\\n\\nThis data differs from the data presented in Fishers article (identified by Steve Chadwick,  spchadwick@espeedaz.net ).  The 35th sample should be: 4.9,3.1,1.5,0.2,\"Iris-setosa\" where the error is in the fourth feature. The 38th sample: 4.9,3.6,1.4,0.1,\"Iris-setosa\" where the errors are in the second and third features.  ',\n",
              "   'purpose': 'N/A',\n",
              "   'funded_by': None,\n",
              "   'instances_represent': 'Each instance is a plant',\n",
              "   'recommended_data_splits': None,\n",
              "   'sensitive_data': None,\n",
              "   'preprocessing_description': None,\n",
              "   'variable_info': None,\n",
              "   'citation': None}},\n",
              " 'variables':            name     role         type demographic  \\\n",
              " 0  sepal length  Feature   Continuous        None   \n",
              " 1   sepal width  Feature   Continuous        None   \n",
              " 2  petal length  Feature   Continuous        None   \n",
              " 3   petal width  Feature   Continuous        None   \n",
              " 4         class   Target  Categorical        None   \n",
              " \n",
              "                                          description units missing_values  \n",
              " 0                                               None    cm             no  \n",
              " 1                                               None    cm             no  \n",
              " 2                                               None    cm             no  \n",
              " 3                                               None    cm             no  \n",
              " 4  class of iris plant: Iris Setosa, Iris Versico...  None             no  }"
            ]
          },
          "metadata": {},
          "execution_count": 42
        }
      ]
    },
    {
      "cell_type": "code",
      "source": [
        "class GaussianNBManual:\n",
        "    def fit(self, X, y):\n",
        "        self.classes = np.unique(y)\n",
        "        self.parameters = {}\n",
        "        for cls in self.classes:\n",
        "            X_cls = X[y == cls]\n",
        "            self.parameters[cls] = {\n",
        "                'mean': X_cls.mean(axis=0),\n",
        "                'std': X_cls.std(axis=0),\n",
        "                'prior': len(X_cls) / len(X)\n",
        "            }\n",
        "\n",
        "    def predict(self, X):\n",
        "        y_pred = []\n",
        "        for x in X:\n",
        "            posteriors = []\n",
        "            for cls in self.classes:\n",
        "                prior = np.log(self.parameters[cls]['prior'])\n",
        "                conditional = np.sum(np.log(self._pdf(cls, x)))\n",
        "                posterior = prior + conditional\n",
        "                posteriors.append(posterior)\n",
        "            y_pred.append(self.classes[np.argmax(posteriors)])\n",
        "        return np.array(y_pred)\n",
        "\n",
        "    def _pdf(self, class_idx, x):\n",
        "        mean = self.parameters[class_idx]['mean']\n",
        "        std = self.parameters[class_idx]['std']\n",
        "        return norm.pdf(x, mean, std).prod()"
      ],
      "metadata": {
        "id": "l--btJD1VU8Z"
      },
      "execution_count": null,
      "outputs": []
    },
    {
      "cell_type": "code",
      "source": [
        "iris = fetch_ucirepo(id=53)\n",
        "X = iris.data.features.values\n",
        "y = iris.data.targets['class'].values"
      ],
      "metadata": {
        "id": "6BPJb8qLVnAx"
      },
      "execution_count": null,
      "outputs": []
    },
    {
      "cell_type": "code",
      "source": [
        "model = GaussianNBManual()\n",
        "kf = KFold(n_splits=5, shuffle=True, random_state=42)\n",
        "scores = []"
      ],
      "metadata": {
        "id": "rynQiimLVoTF"
      },
      "execution_count": null,
      "outputs": []
    },
    {
      "cell_type": "code",
      "source": [
        "for train_index, test_index in kf.split(X):\n",
        "    X_train, X_test = X[train_index], X[test_index]\n",
        "    y_train, y_test = y[train_index], y[test_index]\n",
        "\n",
        "    model.fit(X_train, y_train)\n",
        "    predictions = model.predict(X_test)\n",
        "    accuracy = np.mean(predictions == y_test)\n",
        "    scores.append(accuracy)"
      ],
      "metadata": {
        "colab": {
          "base_uri": "https://localhost:8080/"
        },
        "id": "q-VW1yzJX3NZ",
        "outputId": "2b17f57e-de63-4123-ebea-0b65e143f300"
      },
      "execution_count": null,
      "outputs": [
        {
          "output_type": "stream",
          "name": "stderr",
          "text": [
            "<ipython-input-50-9fd0420e2e3a>:19: RuntimeWarning: divide by zero encountered in log\n",
            "  conditional = np.sum(np.log(self._pdf(cls, x)))\n"
          ]
        }
      ]
    },
    {
      "cell_type": "code",
      "source": [
        "print(\"Cross-validated accuracies:\", scores)\n",
        "print(\"Mean accuracy:\", np.mean(scores))"
      ],
      "metadata": {
        "colab": {
          "base_uri": "https://localhost:8080/"
        },
        "id": "Hely8lOAX6Ao",
        "outputId": "c909c036-bd82-4081-abf3-72ef2a8a4f92"
      },
      "execution_count": null,
      "outputs": [
        {
          "output_type": "stream",
          "name": "stdout",
          "text": [
            "Cross-validated accuracies: [1.0, 0.9666666666666667, 0.9333333333333333, 0.9666666666666667, 0.9333333333333333]\n",
            "Mean accuracy: 0.9600000000000002\n"
          ]
        }
      ]
    }
  ]
}