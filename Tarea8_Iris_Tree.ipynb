{
  "nbformat": 4,
  "nbformat_minor": 0,
  "metadata": {
    "colab": {
      "provenance": [],
      "authorship_tag": "ABX9TyNmK5VxDtlBmRtvXt0ZwY5j",
      "include_colab_link": true
    },
    "kernelspec": {
      "name": "python3",
      "display_name": "Python 3"
    },
    "language_info": {
      "name": "python"
    }
  },
  "cells": [
    {
      "cell_type": "markdown",
      "metadata": {
        "id": "view-in-github",
        "colab_type": "text"
      },
      "source": [
        "<a href=\"https://colab.research.google.com/github/Mariyselita/CIP/blob/main/Tarea8_Iris_Tree.ipynb\" target=\"_parent\"><img src=\"https://colab.research.google.com/assets/colab-badge.svg\" alt=\"Open In Colab\"/></a>"
      ]
    },
    {
      "cell_type": "code",
      "execution_count": 1,
      "metadata": {
        "colab": {
          "base_uri": "https://localhost:8080/"
        },
        "id": "MPvl8S0grEPS",
        "outputId": "c84dd0d6-812e-41f1-be7f-b6c2a45fca1b"
      },
      "outputs": [
        {
          "output_type": "stream",
          "name": "stdout",
          "text": [
            "Collecting ucimlrepo\n",
            "  Downloading ucimlrepo-0.0.6-py3-none-any.whl (8.0 kB)\n",
            "Installing collected packages: ucimlrepo\n",
            "Successfully installed ucimlrepo-0.0.6\n"
          ]
        }
      ],
      "source": [
        "pip install ucimlrepo"
      ]
    },
    {
      "cell_type": "code",
      "source": [
        "import pandas as pd\n",
        "from ucimlrepo import fetch_ucirepo\n",
        "import numpy as np\n",
        "from sklearn.metrics import accuracy_score, classification_report\n",
        "from sklearn.model_selection import train_test_split"
      ],
      "metadata": {
        "id": "RyD4bWflrZXT"
      },
      "execution_count": 2,
      "outputs": []
    },
    {
      "cell_type": "code",
      "source": [
        "iris = fetch_ucirepo(id=53)"
      ],
      "metadata": {
        "id": "bvDkkYW7rckQ"
      },
      "execution_count": 3,
      "outputs": []
    },
    {
      "cell_type": "code",
      "source": [
        "X = iris.data.features\n",
        "y = iris.data.targets.values.flatten()"
      ],
      "metadata": {
        "id": "wiQIoRX_rhtM"
      },
      "execution_count": 4,
      "outputs": []
    },
    {
      "cell_type": "code",
      "source": [
        "X_train, X_test, y_train, y_test = train_test_split(X, y, test_size=0.2, random_state=42)"
      ],
      "metadata": {
        "id": "XPVuBZpOrlmI"
      },
      "execution_count": 5,
      "outputs": []
    },
    {
      "cell_type": "code",
      "source": [
        "X_train_dense = X_train.to_numpy()\n",
        "X_test_dense = X_test.to_numpy()"
      ],
      "metadata": {
        "id": "86YJtLH3rnpr"
      },
      "execution_count": 6,
      "outputs": []
    },
    {
      "cell_type": "code",
      "source": [
        "class DecisionTree:\n",
        "    def __init__(self, max_depth=None):\n",
        "        self.max_depth = max_depth\n",
        "\n",
        "    def fit(self, X, y):\n",
        "        self.tree = self._grow_tree(X, y)\n",
        "\n",
        "    def _grow_tree(self, X, y, depth=0):\n",
        "        if self.max_depth is not None and depth >= self.max_depth:\n",
        "            return {'label': max(set(y), key=list(y).count)}\n",
        "        if len(np.unique(y)) == 1:\n",
        "            return {'label': y[0]}\n",
        "\n",
        "        best_split = self._find_best_split(X, y)\n",
        "        if best_split is None:\n",
        "            return {'label': max(set(y), key=list(y).count)}\n",
        "\n",
        "        left_idxs = X[:, best_split['feature']] < best_split['threshold']\n",
        "        right_idxs = ~left_idxs\n",
        "\n",
        "        if np.sum(left_idxs) == 0 or np.sum(right_idxs) == 0:\n",
        "            return {'label': max(set(y), key=list(y).count)}\n",
        "\n",
        "        left_subtree = self._grow_tree(X[left_idxs], y[left_idxs], depth + 1)\n",
        "        right_subtree = self._grow_tree(X[right_idxs], y[right_idxs], depth + 1)\n",
        "\n",
        "        return {'feature': best_split['feature'], 'threshold': best_split['threshold'], 'left': left_subtree, 'right': right_subtree}\n",
        "\n",
        "    def _find_best_split(self, X, y):\n",
        "        best_gini = 1.0\n",
        "        best_split = None\n",
        "        n_features = X.shape[1]\n",
        "\n",
        "        for feature in range(n_features):\n",
        "            thresholds = np.percentile(X[:, feature], [10, 25, 50, 75, 90])\n",
        "            for threshold in thresholds:\n",
        "                left_idxs = X[:, feature] < threshold\n",
        "                if np.sum(left_idxs) == 0 or np.sum(left_idxs) == len(y):\n",
        "                    continue\n",
        "                gini = self._gini_impurity(y[left_idxs]) * np.mean(left_idxs) + \\\n",
        "                       self._gini_impurity(y[~left_idxs]) * np.mean(~left_idxs)\n",
        "                if gini < best_gini:\n",
        "                    best_gini = gini\n",
        "                    best_split = {'feature': feature, 'threshold': threshold}\n",
        "        return best_split\n",
        "\n",
        "    def _gini_impurity(self, y):\n",
        "        class_probs = np.array([np.mean(y == c) for c in np.unique(y)])\n",
        "        return 1 - np.sum(class_probs ** 2)\n",
        "\n",
        "    def predict(self, X):\n",
        "        return np.array([self._predict_tree(x, self.tree) if self.tree is not None else None for x in X])\n",
        "\n",
        "    def _predict_tree(self, x, tree):\n",
        "        if 'label' in tree:\n",
        "            return tree['label']\n",
        "        if x[tree['feature']] < tree['threshold']:\n",
        "            return self._predict_tree(x, tree['left'])\n",
        "        else:\n",
        "            return self._predict_tree(x, tree['right'])"
      ],
      "metadata": {
        "id": "iCq0teOmruu9"
      },
      "execution_count": 7,
      "outputs": []
    },
    {
      "cell_type": "code",
      "source": [
        "tree = DecisionTree(max_depth=3)\n",
        "tree.fit(X_train_dense, y_train)\n",
        "y_pred = tree.predict(X_test_dense)"
      ],
      "metadata": {
        "id": "-iA9VkOhrw0X"
      },
      "execution_count": 8,
      "outputs": []
    },
    {
      "cell_type": "code",
      "source": [
        "accuracy = accuracy_score(y_test, y_pred)\n",
        "print(\"Precisión del modelo:\", accuracy)\n",
        "print(\"Reporte de clasificación:\")\n",
        "print(classification_report(y_test, y_pred))"
      ],
      "metadata": {
        "colab": {
          "base_uri": "https://localhost:8080/"
        },
        "id": "zsyRX-Bmr13p",
        "outputId": "eb971b65-d517-4e55-a5a4-3ba86b200653"
      },
      "execution_count": 9,
      "outputs": [
        {
          "output_type": "stream",
          "name": "stdout",
          "text": [
            "Precisión del modelo: 1.0\n",
            "Reporte de clasificación:\n",
            "                 precision    recall  f1-score   support\n",
            "\n",
            "    Iris-setosa       1.00      1.00      1.00        10\n",
            "Iris-versicolor       1.00      1.00      1.00         9\n",
            " Iris-virginica       1.00      1.00      1.00        11\n",
            "\n",
            "       accuracy                           1.00        30\n",
            "      macro avg       1.00      1.00      1.00        30\n",
            "   weighted avg       1.00      1.00      1.00        30\n",
            "\n"
          ]
        }
      ]
    }
  ]
}